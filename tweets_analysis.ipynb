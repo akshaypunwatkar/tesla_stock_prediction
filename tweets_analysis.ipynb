{
 "cells": [
  {
   "cell_type": "code",
   "execution_count": 1,
   "metadata": {},
   "outputs": [],
   "source": [
    "import pandas as pd"
   ]
  },
  {
   "cell_type": "code",
   "execution_count": 2,
   "metadata": {},
   "outputs": [],
   "source": [
    "def read_tweets(fp):\n",
    "    df = pd.read_csv(fp, usecols = ['created_at', 'text'], parse_dates = ['created_at'])\n",
    "    df['date'] = df['created_at'].dt.date\n",
    "    print(df['date'].value_counts())\n",
    "    print(df.shape)\n",
    "    return df"
   ]
  },
  {
   "cell_type": "markdown",
   "metadata": {},
   "source": [
    "## October 27-28"
   ]
  },
  {
   "cell_type": "code",
   "execution_count": 3,
   "metadata": {},
   "outputs": [
    {
     "name": "stdout",
     "output_type": "stream",
     "text": [
      "2020-10-28    9147\n",
      "2020-10-27    8849\n",
      "Name: date, dtype: int64\n",
      "(17996, 3)\n"
     ]
    },
    {
     "data": {
      "text/html": [
       "<div>\n",
       "<style scoped>\n",
       "    .dataframe tbody tr th:only-of-type {\n",
       "        vertical-align: middle;\n",
       "    }\n",
       "\n",
       "    .dataframe tbody tr th {\n",
       "        vertical-align: top;\n",
       "    }\n",
       "\n",
       "    .dataframe thead th {\n",
       "        text-align: right;\n",
       "    }\n",
       "</style>\n",
       "<table border=\"1\" class=\"dataframe\">\n",
       "  <thead>\n",
       "    <tr style=\"text-align: right;\">\n",
       "      <th></th>\n",
       "      <th>created_at</th>\n",
       "      <th>text</th>\n",
       "      <th>date</th>\n",
       "    </tr>\n",
       "  </thead>\n",
       "  <tbody>\n",
       "    <tr>\n",
       "      <th>0</th>\n",
       "      <td>2020-10-28 06:25:49</td>\n",
       "      <td>@LeonardChoong @VGrinshpun @bizandsec @dividen...</td>\n",
       "      <td>2020-10-28</td>\n",
       "    </tr>\n",
       "    <tr>\n",
       "      <th>1</th>\n",
       "      <td>2020-10-27 17:09:19</td>\n",
       "      <td>@erwil_AI @boutchbb7 @ValueAnalyst1 @JiwanCahn...</td>\n",
       "      <td>2020-10-27</td>\n",
       "    </tr>\n",
       "    <tr>\n",
       "      <th>2</th>\n",
       "      <td>2020-10-27 19:49:16</td>\n",
       "      <td>@VGrinshpun @boutchbb7 @ValueAnalyst1 @JiwanCa...</td>\n",
       "      <td>2020-10-27</td>\n",
       "    </tr>\n",
       "    <tr>\n",
       "      <th>3</th>\n",
       "      <td>2020-10-27 06:54:30</td>\n",
       "      <td>@JiwanCahn @mariuswiik @WholeMarsBlog @dburkla...</td>\n",
       "      <td>2020-10-27</td>\n",
       "    </tr>\n",
       "    <tr>\n",
       "      <th>4</th>\n",
       "      <td>2020-10-27 06:54:07</td>\n",
       "      <td>@JiwanCahn @mariuswiik @WholeMarsBlog @dburkla...</td>\n",
       "      <td>2020-10-27</td>\n",
       "    </tr>\n",
       "  </tbody>\n",
       "</table>\n",
       "</div>"
      ],
      "text/plain": [
       "           created_at                                               text  \\\n",
       "0 2020-10-28 06:25:49  @LeonardChoong @VGrinshpun @bizandsec @dividen...   \n",
       "1 2020-10-27 17:09:19  @erwil_AI @boutchbb7 @ValueAnalyst1 @JiwanCahn...   \n",
       "2 2020-10-27 19:49:16  @VGrinshpun @boutchbb7 @ValueAnalyst1 @JiwanCa...   \n",
       "3 2020-10-27 06:54:30  @JiwanCahn @mariuswiik @WholeMarsBlog @dburkla...   \n",
       "4 2020-10-27 06:54:07  @JiwanCahn @mariuswiik @WholeMarsBlog @dburkla...   \n",
       "\n",
       "         date  \n",
       "0  2020-10-28  \n",
       "1  2020-10-27  \n",
       "2  2020-10-27  \n",
       "3  2020-10-27  \n",
       "4  2020-10-27  "
      ]
     },
     "execution_count": 3,
     "metadata": {},
     "output_type": "execute_result"
    }
   ],
   "source": [
    "oct28 = read_tweets('./data/tweets_1027_1028.csv')\n",
    "oct28.head()"
   ]
  },
  {
   "cell_type": "markdown",
   "metadata": {},
   "source": [
    "## October 29"
   ]
  },
  {
   "cell_type": "code",
   "execution_count": 4,
   "metadata": {},
   "outputs": [
    {
     "name": "stdout",
     "output_type": "stream",
     "text": [
      "2020-10-29    17988\n",
      "Name: date, dtype: int64\n",
      "(17988, 3)\n"
     ]
    },
    {
     "data": {
      "text/html": [
       "<div>\n",
       "<style scoped>\n",
       "    .dataframe tbody tr th:only-of-type {\n",
       "        vertical-align: middle;\n",
       "    }\n",
       "\n",
       "    .dataframe tbody tr th {\n",
       "        vertical-align: top;\n",
       "    }\n",
       "\n",
       "    .dataframe thead th {\n",
       "        text-align: right;\n",
       "    }\n",
       "</style>\n",
       "<table border=\"1\" class=\"dataframe\">\n",
       "  <thead>\n",
       "    <tr style=\"text-align: right;\">\n",
       "      <th></th>\n",
       "      <th>created_at</th>\n",
       "      <th>text</th>\n",
       "      <th>date</th>\n",
       "    </tr>\n",
       "  </thead>\n",
       "  <tbody>\n",
       "    <tr>\n",
       "      <th>0</th>\n",
       "      <td>2020-10-29 23:59:57</td>\n",
       "      <td>@elonmusk @EndelSound @Grimezsz Teach my tesla...</td>\n",
       "      <td>2020-10-29</td>\n",
       "    </tr>\n",
       "    <tr>\n",
       "      <th>1</th>\n",
       "      <td>2020-10-29 02:24:21</td>\n",
       "      <td>@elonmusk Wtf is going on with Elon musk latel...</td>\n",
       "      <td>2020-10-29</td>\n",
       "    </tr>\n",
       "    <tr>\n",
       "      <th>2</th>\n",
       "      <td>2020-10-29 23:59:36</td>\n",
       "      <td>Why It Might Be Time To Sell #Tesla And Other ...</td>\n",
       "      <td>2020-10-29</td>\n",
       "    </tr>\n",
       "    <tr>\n",
       "      <th>3</th>\n",
       "      <td>2020-10-29 23:59:29</td>\n",
       "      <td>@ShortingIsFun @TESLAcharts @elonmusk He’s not...</td>\n",
       "      <td>2020-10-29</td>\n",
       "    </tr>\n",
       "    <tr>\n",
       "      <th>4</th>\n",
       "      <td>2020-10-29 23:59:19</td>\n",
       "      <td>@TeslaPodcast @elonmusk @Tesla @TeslaPodcast ❤...</td>\n",
       "      <td>2020-10-29</td>\n",
       "    </tr>\n",
       "  </tbody>\n",
       "</table>\n",
       "</div>"
      ],
      "text/plain": [
       "           created_at                                               text  \\\n",
       "0 2020-10-29 23:59:57  @elonmusk @EndelSound @Grimezsz Teach my tesla...   \n",
       "1 2020-10-29 02:24:21  @elonmusk Wtf is going on with Elon musk latel...   \n",
       "2 2020-10-29 23:59:36  Why It Might Be Time To Sell #Tesla And Other ...   \n",
       "3 2020-10-29 23:59:29  @ShortingIsFun @TESLAcharts @elonmusk He’s not...   \n",
       "4 2020-10-29 23:59:19  @TeslaPodcast @elonmusk @Tesla @TeslaPodcast ❤...   \n",
       "\n",
       "         date  \n",
       "0  2020-10-29  \n",
       "1  2020-10-29  \n",
       "2  2020-10-29  \n",
       "3  2020-10-29  \n",
       "4  2020-10-29  "
      ]
     },
     "execution_count": 4,
     "metadata": {},
     "output_type": "execute_result"
    }
   ],
   "source": [
    "oct29 = read_tweets('./data/tweets_1029.csv')\n",
    "oct29.head()"
   ]
  },
  {
   "cell_type": "markdown",
   "metadata": {},
   "source": [
    "## October 30"
   ]
  },
  {
   "cell_type": "code",
   "execution_count": 5,
   "metadata": {},
   "outputs": [
    {
     "name": "stdout",
     "output_type": "stream",
     "text": [
      "2020-10-30    11475\n",
      "Name: date, dtype: int64\n",
      "(11475, 3)\n"
     ]
    },
    {
     "data": {
      "text/html": [
       "<div>\n",
       "<style scoped>\n",
       "    .dataframe tbody tr th:only-of-type {\n",
       "        vertical-align: middle;\n",
       "    }\n",
       "\n",
       "    .dataframe tbody tr th {\n",
       "        vertical-align: top;\n",
       "    }\n",
       "\n",
       "    .dataframe thead th {\n",
       "        text-align: right;\n",
       "    }\n",
       "</style>\n",
       "<table border=\"1\" class=\"dataframe\">\n",
       "  <thead>\n",
       "    <tr style=\"text-align: right;\">\n",
       "      <th></th>\n",
       "      <th>created_at</th>\n",
       "      <th>text</th>\n",
       "      <th>date</th>\n",
       "    </tr>\n",
       "  </thead>\n",
       "  <tbody>\n",
       "    <tr>\n",
       "      <th>0</th>\n",
       "      <td>2020-10-30 23:59:56</td>\n",
       "      <td>@elonmusk @engineers_feed And it does that on ...</td>\n",
       "      <td>2020-10-30</td>\n",
       "    </tr>\n",
       "    <tr>\n",
       "      <th>1</th>\n",
       "      <td>2020-10-30 23:59:52</td>\n",
       "      <td>@Gab031996 @BlackSwans8 @mundanemun @alyssathe...</td>\n",
       "      <td>2020-10-30</td>\n",
       "    </tr>\n",
       "    <tr>\n",
       "      <th>2</th>\n",
       "      <td>2020-10-30 00:19:44</td>\n",
       "      <td>@Gab031996 @mundanemun @alyssatheodore2 @PPath...</td>\n",
       "      <td>2020-10-30</td>\n",
       "    </tr>\n",
       "    <tr>\n",
       "      <th>3</th>\n",
       "      <td>2020-10-30 23:03:04</td>\n",
       "      <td>@mirelexx @Gab031996 @mundanemun @alyssatheodo...</td>\n",
       "      <td>2020-10-30</td>\n",
       "    </tr>\n",
       "    <tr>\n",
       "      <th>4</th>\n",
       "      <td>2020-10-30 23:16:20</td>\n",
       "      <td>@mirelexx @Gab031996 @mundanemun @alyssatheodo...</td>\n",
       "      <td>2020-10-30</td>\n",
       "    </tr>\n",
       "  </tbody>\n",
       "</table>\n",
       "</div>"
      ],
      "text/plain": [
       "           created_at                                               text  \\\n",
       "0 2020-10-30 23:59:56  @elonmusk @engineers_feed And it does that on ...   \n",
       "1 2020-10-30 23:59:52  @Gab031996 @BlackSwans8 @mundanemun @alyssathe...   \n",
       "2 2020-10-30 00:19:44  @Gab031996 @mundanemun @alyssatheodore2 @PPath...   \n",
       "3 2020-10-30 23:03:04  @mirelexx @Gab031996 @mundanemun @alyssatheodo...   \n",
       "4 2020-10-30 23:16:20  @mirelexx @Gab031996 @mundanemun @alyssatheodo...   \n",
       "\n",
       "         date  \n",
       "0  2020-10-30  \n",
       "1  2020-10-30  \n",
       "2  2020-10-30  \n",
       "3  2020-10-30  \n",
       "4  2020-10-30  "
      ]
     },
     "execution_count": 5,
     "metadata": {},
     "output_type": "execute_result"
    }
   ],
   "source": [
    "oct30 = read_tweets('./data/tweets_1030.csv')\n",
    "oct30.head()"
   ]
  },
  {
   "cell_type": "markdown",
   "metadata": {},
   "source": [
    "## October 31"
   ]
  },
  {
   "cell_type": "code",
   "execution_count": 6,
   "metadata": {},
   "outputs": [
    {
     "name": "stdout",
     "output_type": "stream",
     "text": [
      "2020-10-31    6064\n",
      "Name: date, dtype: int64\n",
      "(6064, 3)\n"
     ]
    },
    {
     "data": {
      "text/html": [
       "<div>\n",
       "<style scoped>\n",
       "    .dataframe tbody tr th:only-of-type {\n",
       "        vertical-align: middle;\n",
       "    }\n",
       "\n",
       "    .dataframe tbody tr th {\n",
       "        vertical-align: top;\n",
       "    }\n",
       "\n",
       "    .dataframe thead th {\n",
       "        text-align: right;\n",
       "    }\n",
       "</style>\n",
       "<table border=\"1\" class=\"dataframe\">\n",
       "  <thead>\n",
       "    <tr style=\"text-align: right;\">\n",
       "      <th></th>\n",
       "      <th>created_at</th>\n",
       "      <th>text</th>\n",
       "      <th>date</th>\n",
       "    </tr>\n",
       "  </thead>\n",
       "  <tbody>\n",
       "    <tr>\n",
       "      <th>0</th>\n",
       "      <td>2020-10-31 23:59:59</td>\n",
       "      <td>@tobyliiiiiiiiii @karpathy @elonmusk @kimbal @...</td>\n",
       "      <td>2020-10-31</td>\n",
       "    </tr>\n",
       "    <tr>\n",
       "      <th>1</th>\n",
       "      <td>2020-10-31 15:31:08</td>\n",
       "      <td>@jmufkinr @elonmusk @WholeMarsBlog Thank you!</td>\n",
       "      <td>2020-10-31</td>\n",
       "    </tr>\n",
       "    <tr>\n",
       "      <th>2</th>\n",
       "      <td>2020-10-31 23:59:36</td>\n",
       "      <td>@teslasanon @karpathy @elonmusk @kimbal @mayem...</td>\n",
       "      <td>2020-10-31</td>\n",
       "    </tr>\n",
       "    <tr>\n",
       "      <th>3</th>\n",
       "      <td>2020-10-31 23:59:29</td>\n",
       "      <td>@mojosusan @karpathy @elonmusk @kimbal @mayemu...</td>\n",
       "      <td>2020-10-31</td>\n",
       "    </tr>\n",
       "    <tr>\n",
       "      <th>4</th>\n",
       "      <td>2020-10-31 23:43:57</td>\n",
       "      <td>Finished!  Still in beta but with latest updat...</td>\n",
       "      <td>2020-10-31</td>\n",
       "    </tr>\n",
       "  </tbody>\n",
       "</table>\n",
       "</div>"
      ],
      "text/plain": [
       "           created_at                                               text  \\\n",
       "0 2020-10-31 23:59:59  @tobyliiiiiiiiii @karpathy @elonmusk @kimbal @...   \n",
       "1 2020-10-31 15:31:08      @jmufkinr @elonmusk @WholeMarsBlog Thank you!   \n",
       "2 2020-10-31 23:59:36  @teslasanon @karpathy @elonmusk @kimbal @mayem...   \n",
       "3 2020-10-31 23:59:29  @mojosusan @karpathy @elonmusk @kimbal @mayemu...   \n",
       "4 2020-10-31 23:43:57  Finished!  Still in beta but with latest updat...   \n",
       "\n",
       "         date  \n",
       "0  2020-10-31  \n",
       "1  2020-10-31  \n",
       "2  2020-10-31  \n",
       "3  2020-10-31  \n",
       "4  2020-10-31  "
      ]
     },
     "execution_count": 6,
     "metadata": {},
     "output_type": "execute_result"
    }
   ],
   "source": [
    "oct31 = read_tweets('./data/tweets_1031.csv')\n",
    "oct31.head()"
   ]
  },
  {
   "cell_type": "markdown",
   "metadata": {},
   "source": [
    "## November 1-2"
   ]
  },
  {
   "cell_type": "code",
   "execution_count": 7,
   "metadata": {},
   "outputs": [
    {
     "name": "stdout",
     "output_type": "stream",
     "text": [
      "2020-11-02    15323\n",
      "2020-11-01     2650\n",
      "Name: date, dtype: int64\n",
      "(17973, 3)\n"
     ]
    },
    {
     "data": {
      "text/html": [
       "<div>\n",
       "<style scoped>\n",
       "    .dataframe tbody tr th:only-of-type {\n",
       "        vertical-align: middle;\n",
       "    }\n",
       "\n",
       "    .dataframe tbody tr th {\n",
       "        vertical-align: top;\n",
       "    }\n",
       "\n",
       "    .dataframe thead th {\n",
       "        text-align: right;\n",
       "    }\n",
       "</style>\n",
       "<table border=\"1\" class=\"dataframe\">\n",
       "  <thead>\n",
       "    <tr style=\"text-align: right;\">\n",
       "      <th></th>\n",
       "      <th>created_at</th>\n",
       "      <th>text</th>\n",
       "      <th>date</th>\n",
       "    </tr>\n",
       "  </thead>\n",
       "  <tbody>\n",
       "    <tr>\n",
       "      <th>0</th>\n",
       "      <td>2020-11-02 23:59:55</td>\n",
       "      <td>@noobde @elonmusk Im not sure elon would agree...</td>\n",
       "      <td>2020-11-02</td>\n",
       "    </tr>\n",
       "    <tr>\n",
       "      <th>1</th>\n",
       "      <td>2020-11-02 23:59:53</td>\n",
       "      <td>@elonmusk chek this tesla video. 👌\\nhttps://t....</td>\n",
       "      <td>2020-11-02</td>\n",
       "    </tr>\n",
       "    <tr>\n",
       "      <th>2</th>\n",
       "      <td>2020-11-02 23:59:47</td>\n",
       "      <td>2021 Goals:\\n1. Inaugurate #BidenHarris \\n2. E...</td>\n",
       "      <td>2020-11-02</td>\n",
       "    </tr>\n",
       "    <tr>\n",
       "      <th>3</th>\n",
       "      <td>2020-11-02 23:59:45</td>\n",
       "      <td>@elonmusk Send one to our family please.  Our ...</td>\n",
       "      <td>2020-11-02</td>\n",
       "    </tr>\n",
       "    <tr>\n",
       "      <th>4</th>\n",
       "      <td>2020-11-02 23:59:41</td>\n",
       "      <td>@elonmusk @enn_nafnlaus @flcnhvy Thank you for...</td>\n",
       "      <td>2020-11-02</td>\n",
       "    </tr>\n",
       "  </tbody>\n",
       "</table>\n",
       "</div>"
      ],
      "text/plain": [
       "           created_at                                               text  \\\n",
       "0 2020-11-02 23:59:55  @noobde @elonmusk Im not sure elon would agree...   \n",
       "1 2020-11-02 23:59:53  @elonmusk chek this tesla video. 👌\\nhttps://t....   \n",
       "2 2020-11-02 23:59:47  2021 Goals:\\n1. Inaugurate #BidenHarris \\n2. E...   \n",
       "3 2020-11-02 23:59:45  @elonmusk Send one to our family please.  Our ...   \n",
       "4 2020-11-02 23:59:41  @elonmusk @enn_nafnlaus @flcnhvy Thank you for...   \n",
       "\n",
       "         date  \n",
       "0  2020-11-02  \n",
       "1  2020-11-02  \n",
       "2  2020-11-02  \n",
       "3  2020-11-02  \n",
       "4  2020-11-02  "
      ]
     },
     "execution_count": 7,
     "metadata": {},
     "output_type": "execute_result"
    }
   ],
   "source": [
    "nov1_2 = read_tweets('./data/tweets_1101_1102.csv')\n",
    "nov1_2.head()"
   ]
  },
  {
   "cell_type": "markdown",
   "metadata": {},
   "source": [
    "## November 3"
   ]
  },
  {
   "cell_type": "code",
   "execution_count": 8,
   "metadata": {},
   "outputs": [
    {
     "name": "stdout",
     "output_type": "stream",
     "text": [
      "2020-11-03    13393\n",
      "Name: date, dtype: int64\n",
      "(13393, 3)\n"
     ]
    },
    {
     "data": {
      "text/html": [
       "<div>\n",
       "<style scoped>\n",
       "    .dataframe tbody tr th:only-of-type {\n",
       "        vertical-align: middle;\n",
       "    }\n",
       "\n",
       "    .dataframe tbody tr th {\n",
       "        vertical-align: top;\n",
       "    }\n",
       "\n",
       "    .dataframe thead th {\n",
       "        text-align: right;\n",
       "    }\n",
       "</style>\n",
       "<table border=\"1\" class=\"dataframe\">\n",
       "  <thead>\n",
       "    <tr style=\"text-align: right;\">\n",
       "      <th></th>\n",
       "      <th>created_at</th>\n",
       "      <th>text</th>\n",
       "      <th>date</th>\n",
       "    </tr>\n",
       "  </thead>\n",
       "  <tbody>\n",
       "    <tr>\n",
       "      <th>0</th>\n",
       "      <td>2020-11-03 23:59:57</td>\n",
       "      <td>@elonmusk @JonErlichman Christmas eve miracle?</td>\n",
       "      <td>2020-11-03</td>\n",
       "    </tr>\n",
       "    <tr>\n",
       "      <th>1</th>\n",
       "      <td>2020-11-03 23:59:46</td>\n",
       "      <td>my Starship model Rocket has completed its \"la...</td>\n",
       "      <td>2020-11-03</td>\n",
       "    </tr>\n",
       "    <tr>\n",
       "      <th>2</th>\n",
       "      <td>2020-11-03 02:58:31</td>\n",
       "      <td>@elonmusk @thesheetztweetz Will it be able to ...</td>\n",
       "      <td>2020-11-03</td>\n",
       "    </tr>\n",
       "    <tr>\n",
       "      <th>3</th>\n",
       "      <td>2020-11-03 23:59:22</td>\n",
       "      <td>@elonmusk Would love to test one out for you h...</td>\n",
       "      <td>2020-11-03</td>\n",
       "    </tr>\n",
       "    <tr>\n",
       "      <th>4</th>\n",
       "      <td>2020-11-03 23:59:18</td>\n",
       "      <td>Just need #apple or #tesla to fomo in k thx #b...</td>\n",
       "      <td>2020-11-03</td>\n",
       "    </tr>\n",
       "  </tbody>\n",
       "</table>\n",
       "</div>"
      ],
      "text/plain": [
       "           created_at                                               text  \\\n",
       "0 2020-11-03 23:59:57     @elonmusk @JonErlichman Christmas eve miracle?   \n",
       "1 2020-11-03 23:59:46  my Starship model Rocket has completed its \"la...   \n",
       "2 2020-11-03 02:58:31  @elonmusk @thesheetztweetz Will it be able to ...   \n",
       "3 2020-11-03 23:59:22  @elonmusk Would love to test one out for you h...   \n",
       "4 2020-11-03 23:59:18  Just need #apple or #tesla to fomo in k thx #b...   \n",
       "\n",
       "         date  \n",
       "0  2020-11-03  \n",
       "1  2020-11-03  \n",
       "2  2020-11-03  \n",
       "3  2020-11-03  \n",
       "4  2020-11-03  "
      ]
     },
     "execution_count": 8,
     "metadata": {},
     "output_type": "execute_result"
    }
   ],
   "source": [
    "nov3 = read_tweets('./data/tweets_1103.csv')\n",
    "nov3.head()"
   ]
  },
  {
   "cell_type": "markdown",
   "metadata": {},
   "source": [
    "## November 4"
   ]
  },
  {
   "cell_type": "code",
   "execution_count": 9,
   "metadata": {},
   "outputs": [
    {
     "name": "stdout",
     "output_type": "stream",
     "text": [
      "2020-11-03    13393\n",
      "Name: date, dtype: int64\n",
      "(13393, 3)\n"
     ]
    },
    {
     "data": {
      "text/html": [
       "<div>\n",
       "<style scoped>\n",
       "    .dataframe tbody tr th:only-of-type {\n",
       "        vertical-align: middle;\n",
       "    }\n",
       "\n",
       "    .dataframe tbody tr th {\n",
       "        vertical-align: top;\n",
       "    }\n",
       "\n",
       "    .dataframe thead th {\n",
       "        text-align: right;\n",
       "    }\n",
       "</style>\n",
       "<table border=\"1\" class=\"dataframe\">\n",
       "  <thead>\n",
       "    <tr style=\"text-align: right;\">\n",
       "      <th></th>\n",
       "      <th>created_at</th>\n",
       "      <th>text</th>\n",
       "      <th>date</th>\n",
       "    </tr>\n",
       "  </thead>\n",
       "  <tbody>\n",
       "    <tr>\n",
       "      <th>0</th>\n",
       "      <td>2020-11-03 23:59:57</td>\n",
       "      <td>@elonmusk @JonErlichman Christmas eve miracle?</td>\n",
       "      <td>2020-11-03</td>\n",
       "    </tr>\n",
       "    <tr>\n",
       "      <th>1</th>\n",
       "      <td>2020-11-03 23:59:46</td>\n",
       "      <td>my Starship model Rocket has completed its \"la...</td>\n",
       "      <td>2020-11-03</td>\n",
       "    </tr>\n",
       "    <tr>\n",
       "      <th>2</th>\n",
       "      <td>2020-11-03 02:58:31</td>\n",
       "      <td>@elonmusk @thesheetztweetz Will it be able to ...</td>\n",
       "      <td>2020-11-03</td>\n",
       "    </tr>\n",
       "    <tr>\n",
       "      <th>3</th>\n",
       "      <td>2020-11-03 23:59:22</td>\n",
       "      <td>@elonmusk Would love to test one out for you h...</td>\n",
       "      <td>2020-11-03</td>\n",
       "    </tr>\n",
       "    <tr>\n",
       "      <th>4</th>\n",
       "      <td>2020-11-03 23:59:18</td>\n",
       "      <td>Just need #apple or #tesla to fomo in k thx #b...</td>\n",
       "      <td>2020-11-03</td>\n",
       "    </tr>\n",
       "  </tbody>\n",
       "</table>\n",
       "</div>"
      ],
      "text/plain": [
       "           created_at                                               text  \\\n",
       "0 2020-11-03 23:59:57     @elonmusk @JonErlichman Christmas eve miracle?   \n",
       "1 2020-11-03 23:59:46  my Starship model Rocket has completed its \"la...   \n",
       "2 2020-11-03 02:58:31  @elonmusk @thesheetztweetz Will it be able to ...   \n",
       "3 2020-11-03 23:59:22  @elonmusk Would love to test one out for you h...   \n",
       "4 2020-11-03 23:59:18  Just need #apple or #tesla to fomo in k thx #b...   \n",
       "\n",
       "         date  \n",
       "0  2020-11-03  \n",
       "1  2020-11-03  \n",
       "2  2020-11-03  \n",
       "3  2020-11-03  \n",
       "4  2020-11-03  "
      ]
     },
     "execution_count": 9,
     "metadata": {},
     "output_type": "execute_result"
    }
   ],
   "source": [
    "nov4 = read_tweets('./data/tweets_1104.csv')\n",
    "nov4.head()"
   ]
  },
  {
   "cell_type": "markdown",
   "metadata": {},
   "source": [
    "## November 5"
   ]
  },
  {
   "cell_type": "code",
   "execution_count": 10,
   "metadata": {},
   "outputs": [
    {
     "name": "stdout",
     "output_type": "stream",
     "text": [
      "2020-11-05    10856\n",
      "Name: date, dtype: int64\n",
      "(10856, 3)\n"
     ]
    },
    {
     "data": {
      "text/html": [
       "<div>\n",
       "<style scoped>\n",
       "    .dataframe tbody tr th:only-of-type {\n",
       "        vertical-align: middle;\n",
       "    }\n",
       "\n",
       "    .dataframe tbody tr th {\n",
       "        vertical-align: top;\n",
       "    }\n",
       "\n",
       "    .dataframe thead th {\n",
       "        text-align: right;\n",
       "    }\n",
       "</style>\n",
       "<table border=\"1\" class=\"dataframe\">\n",
       "  <thead>\n",
       "    <tr style=\"text-align: right;\">\n",
       "      <th></th>\n",
       "      <th>created_at</th>\n",
       "      <th>text</th>\n",
       "      <th>date</th>\n",
       "    </tr>\n",
       "  </thead>\n",
       "  <tbody>\n",
       "    <tr>\n",
       "      <th>0</th>\n",
       "      <td>2020-11-05 23:59:57</td>\n",
       "      <td>@kul_kan2017 @joeschmow8 @jimcramer @elonmusk ...</td>\n",
       "      <td>2020-11-05</td>\n",
       "    </tr>\n",
       "    <tr>\n",
       "      <th>1</th>\n",
       "      <td>2020-11-05 23:15:07</td>\n",
       "      <td>@kul_kan2017 @joeschmow8 @jimcramer @elonmusk ...</td>\n",
       "      <td>2020-11-05</td>\n",
       "    </tr>\n",
       "    <tr>\n",
       "      <th>2</th>\n",
       "      <td>2020-11-05 18:02:46</td>\n",
       "      <td>@StopStalkngThnx @AiKae47 @elonmusk Well then,...</td>\n",
       "      <td>2020-11-05</td>\n",
       "    </tr>\n",
       "    <tr>\n",
       "      <th>3</th>\n",
       "      <td>2020-11-05 10:53:51</td>\n",
       "      <td>@CramericanMark @jimcramer @elonmusk Well, may...</td>\n",
       "      <td>2020-11-05</td>\n",
       "    </tr>\n",
       "    <tr>\n",
       "      <th>4</th>\n",
       "      <td>2020-11-05 10:40:40</td>\n",
       "      <td>@joeschmow8 @jimcramer @elonmusk Not actual re...</td>\n",
       "      <td>2020-11-05</td>\n",
       "    </tr>\n",
       "  </tbody>\n",
       "</table>\n",
       "</div>"
      ],
      "text/plain": [
       "           created_at                                               text  \\\n",
       "0 2020-11-05 23:59:57  @kul_kan2017 @joeschmow8 @jimcramer @elonmusk ...   \n",
       "1 2020-11-05 23:15:07  @kul_kan2017 @joeschmow8 @jimcramer @elonmusk ...   \n",
       "2 2020-11-05 18:02:46  @StopStalkngThnx @AiKae47 @elonmusk Well then,...   \n",
       "3 2020-11-05 10:53:51  @CramericanMark @jimcramer @elonmusk Well, may...   \n",
       "4 2020-11-05 10:40:40  @joeschmow8 @jimcramer @elonmusk Not actual re...   \n",
       "\n",
       "         date  \n",
       "0  2020-11-05  \n",
       "1  2020-11-05  \n",
       "2  2020-11-05  \n",
       "3  2020-11-05  \n",
       "4  2020-11-05  "
      ]
     },
     "execution_count": 10,
     "metadata": {},
     "output_type": "execute_result"
    }
   ],
   "source": [
    "nov5 = read_tweets('./data/tweets_1105.csv')\n",
    "nov5.head()"
   ]
  },
  {
   "cell_type": "markdown",
   "metadata": {},
   "source": [
    "## November 6"
   ]
  },
  {
   "cell_type": "code",
   "execution_count": 11,
   "metadata": {},
   "outputs": [
    {
     "name": "stdout",
     "output_type": "stream",
     "text": [
      "2020-11-06    17979\n",
      "Name: date, dtype: int64\n",
      "(17979, 3)\n"
     ]
    },
    {
     "data": {
      "text/html": [
       "<div>\n",
       "<style scoped>\n",
       "    .dataframe tbody tr th:only-of-type {\n",
       "        vertical-align: middle;\n",
       "    }\n",
       "\n",
       "    .dataframe tbody tr th {\n",
       "        vertical-align: top;\n",
       "    }\n",
       "\n",
       "    .dataframe thead th {\n",
       "        text-align: right;\n",
       "    }\n",
       "</style>\n",
       "<table border=\"1\" class=\"dataframe\">\n",
       "  <thead>\n",
       "    <tr style=\"text-align: right;\">\n",
       "      <th></th>\n",
       "      <th>created_at</th>\n",
       "      <th>text</th>\n",
       "      <th>date</th>\n",
       "    </tr>\n",
       "  </thead>\n",
       "  <tbody>\n",
       "    <tr>\n",
       "      <th>0</th>\n",
       "      <td>2020-11-06 23:59:58</td>\n",
       "      <td>@Pontifex\\n@realDonaldTrump @KremlinRussia_E\\n...</td>\n",
       "      <td>2020-11-06</td>\n",
       "    </tr>\n",
       "    <tr>\n",
       "      <th>1</th>\n",
       "      <td>2020-11-06 21:11:40</td>\n",
       "      <td>@realDonaldTrump\\n@stevenmnuchin1 @fcagroup @e...</td>\n",
       "      <td>2020-11-06</td>\n",
       "    </tr>\n",
       "    <tr>\n",
       "      <th>2</th>\n",
       "      <td>2020-11-06 22:33:29</td>\n",
       "      <td>@realDonaldTrump\\n@stevenmnuchin1 @fcagroup @e...</td>\n",
       "      <td>2020-11-06</td>\n",
       "    </tr>\n",
       "    <tr>\n",
       "      <th>3</th>\n",
       "      <td>2020-11-06 21:08:24</td>\n",
       "      <td>@realDonaldTrump\\n@stevenmnuchin1 @fcagroup @e...</td>\n",
       "      <td>2020-11-06</td>\n",
       "    </tr>\n",
       "    <tr>\n",
       "      <th>4</th>\n",
       "      <td>2020-11-06 22:41:15</td>\n",
       "      <td>@realDonaldTrump\\n@stevenmnuchin1 @fcagroup @e...</td>\n",
       "      <td>2020-11-06</td>\n",
       "    </tr>\n",
       "  </tbody>\n",
       "</table>\n",
       "</div>"
      ],
      "text/plain": [
       "           created_at                                               text  \\\n",
       "0 2020-11-06 23:59:58  @Pontifex\\n@realDonaldTrump @KremlinRussia_E\\n...   \n",
       "1 2020-11-06 21:11:40  @realDonaldTrump\\n@stevenmnuchin1 @fcagroup @e...   \n",
       "2 2020-11-06 22:33:29  @realDonaldTrump\\n@stevenmnuchin1 @fcagroup @e...   \n",
       "3 2020-11-06 21:08:24  @realDonaldTrump\\n@stevenmnuchin1 @fcagroup @e...   \n",
       "4 2020-11-06 22:41:15  @realDonaldTrump\\n@stevenmnuchin1 @fcagroup @e...   \n",
       "\n",
       "         date  \n",
       "0  2020-11-06  \n",
       "1  2020-11-06  \n",
       "2  2020-11-06  \n",
       "3  2020-11-06  \n",
       "4  2020-11-06  "
      ]
     },
     "execution_count": 11,
     "metadata": {},
     "output_type": "execute_result"
    }
   ],
   "source": [
    "nov6 = read_tweets('./data/tweets_1106.csv')\n",
    "nov6.head()"
   ]
  },
  {
   "cell_type": "markdown",
   "metadata": {},
   "source": [
    "## November 7"
   ]
  },
  {
   "cell_type": "code",
   "execution_count": 12,
   "metadata": {},
   "outputs": [
    {
     "name": "stdout",
     "output_type": "stream",
     "text": [
      "2020-11-07    12470\n",
      "Name: date, dtype: int64\n",
      "(12470, 3)\n"
     ]
    },
    {
     "data": {
      "text/html": [
       "<div>\n",
       "<style scoped>\n",
       "    .dataframe tbody tr th:only-of-type {\n",
       "        vertical-align: middle;\n",
       "    }\n",
       "\n",
       "    .dataframe tbody tr th {\n",
       "        vertical-align: top;\n",
       "    }\n",
       "\n",
       "    .dataframe thead th {\n",
       "        text-align: right;\n",
       "    }\n",
       "</style>\n",
       "<table border=\"1\" class=\"dataframe\">\n",
       "  <thead>\n",
       "    <tr style=\"text-align: right;\">\n",
       "      <th></th>\n",
       "      <th>created_at</th>\n",
       "      <th>text</th>\n",
       "      <th>date</th>\n",
       "    </tr>\n",
       "  </thead>\n",
       "  <tbody>\n",
       "    <tr>\n",
       "      <th>0</th>\n",
       "      <td>2020-11-07 23:59:57</td>\n",
       "      <td>@elonmusk #BTC solves this</td>\n",
       "      <td>2020-11-07</td>\n",
       "    </tr>\n",
       "    <tr>\n",
       "      <th>1</th>\n",
       "      <td>2020-11-07 23:59:47</td>\n",
       "      <td>@robert_zubrin @janusPrime @elonmusk I would s...</td>\n",
       "      <td>2020-11-07</td>\n",
       "    </tr>\n",
       "    <tr>\n",
       "      <th>2</th>\n",
       "      <td>2020-11-07 23:42:34</td>\n",
       "      <td>@janusPrime @elonmusk Actually it prefers Fusi...</td>\n",
       "      <td>2020-11-07</td>\n",
       "    </tr>\n",
       "    <tr>\n",
       "      <th>3</th>\n",
       "      <td>2020-11-07 23:58:42</td>\n",
       "      <td>@janusPrime @elonmusk Well that is not wrong.\\...</td>\n",
       "      <td>2020-11-07</td>\n",
       "    </tr>\n",
       "    <tr>\n",
       "      <th>4</th>\n",
       "      <td>2020-11-07 23:59:43</td>\n",
       "      <td>@elonmusk @Kristennetten Underground bike line...</td>\n",
       "      <td>2020-11-07</td>\n",
       "    </tr>\n",
       "  </tbody>\n",
       "</table>\n",
       "</div>"
      ],
      "text/plain": [
       "           created_at                                               text  \\\n",
       "0 2020-11-07 23:59:57                         @elonmusk #BTC solves this   \n",
       "1 2020-11-07 23:59:47  @robert_zubrin @janusPrime @elonmusk I would s...   \n",
       "2 2020-11-07 23:42:34  @janusPrime @elonmusk Actually it prefers Fusi...   \n",
       "3 2020-11-07 23:58:42  @janusPrime @elonmusk Well that is not wrong.\\...   \n",
       "4 2020-11-07 23:59:43  @elonmusk @Kristennetten Underground bike line...   \n",
       "\n",
       "         date  \n",
       "0  2020-11-07  \n",
       "1  2020-11-07  \n",
       "2  2020-11-07  \n",
       "3  2020-11-07  \n",
       "4  2020-11-07  "
      ]
     },
     "execution_count": 12,
     "metadata": {},
     "output_type": "execute_result"
    }
   ],
   "source": [
    "nov7 = read_tweets('./data/tweets_1107.csv')\n",
    "nov7.head()"
   ]
  },
  {
   "cell_type": "markdown",
   "metadata": {},
   "source": [
    "## November 8"
   ]
  },
  {
   "cell_type": "code",
   "execution_count": 13,
   "metadata": {},
   "outputs": [
    {
     "name": "stdout",
     "output_type": "stream",
     "text": [
      "2020-11-08    12232\n",
      "Name: date, dtype: int64\n",
      "(12232, 3)\n"
     ]
    },
    {
     "data": {
      "text/html": [
       "<div>\n",
       "<style scoped>\n",
       "    .dataframe tbody tr th:only-of-type {\n",
       "        vertical-align: middle;\n",
       "    }\n",
       "\n",
       "    .dataframe tbody tr th {\n",
       "        vertical-align: top;\n",
       "    }\n",
       "\n",
       "    .dataframe thead th {\n",
       "        text-align: right;\n",
       "    }\n",
       "</style>\n",
       "<table border=\"1\" class=\"dataframe\">\n",
       "  <thead>\n",
       "    <tr style=\"text-align: right;\">\n",
       "      <th></th>\n",
       "      <th>created_at</th>\n",
       "      <th>text</th>\n",
       "      <th>date</th>\n",
       "    </tr>\n",
       "  </thead>\n",
       "  <tbody>\n",
       "    <tr>\n",
       "      <th>0</th>\n",
       "      <td>2020-11-08 23:59:58</td>\n",
       "      <td>@teslaownerssv @elonmusk How the hell can that...</td>\n",
       "      <td>2020-11-08</td>\n",
       "    </tr>\n",
       "    <tr>\n",
       "      <th>1</th>\n",
       "      <td>2020-11-08 23:59:52</td>\n",
       "      <td>@teslavibes @OwenSparks_ @jgrano305 @MKBHD @el...</td>\n",
       "      <td>2020-11-08</td>\n",
       "    </tr>\n",
       "    <tr>\n",
       "      <th>2</th>\n",
       "      <td>2020-11-08 23:59:44</td>\n",
       "      <td>@elonmusk @vivvchy @RenataKonkoly @SpaceNews_I...</td>\n",
       "      <td>2020-11-08</td>\n",
       "    </tr>\n",
       "    <tr>\n",
       "      <th>3</th>\n",
       "      <td>2020-11-08 23:59:32</td>\n",
       "      <td>@wonderofscience @nealagarwal We are all truly...</td>\n",
       "      <td>2020-11-08</td>\n",
       "    </tr>\n",
       "    <tr>\n",
       "      <th>4</th>\n",
       "      <td>2020-11-08 23:44:35</td>\n",
       "      <td>@FLhomegrown @Tesla @elonmusk Buy panels fella...</td>\n",
       "      <td>2020-11-08</td>\n",
       "    </tr>\n",
       "  </tbody>\n",
       "</table>\n",
       "</div>"
      ],
      "text/plain": [
       "           created_at                                               text  \\\n",
       "0 2020-11-08 23:59:58  @teslaownerssv @elonmusk How the hell can that...   \n",
       "1 2020-11-08 23:59:52  @teslavibes @OwenSparks_ @jgrano305 @MKBHD @el...   \n",
       "2 2020-11-08 23:59:44  @elonmusk @vivvchy @RenataKonkoly @SpaceNews_I...   \n",
       "3 2020-11-08 23:59:32  @wonderofscience @nealagarwal We are all truly...   \n",
       "4 2020-11-08 23:44:35  @FLhomegrown @Tesla @elonmusk Buy panels fella...   \n",
       "\n",
       "         date  \n",
       "0  2020-11-08  \n",
       "1  2020-11-08  \n",
       "2  2020-11-08  \n",
       "3  2020-11-08  \n",
       "4  2020-11-08  "
      ]
     },
     "execution_count": 13,
     "metadata": {},
     "output_type": "execute_result"
    }
   ],
   "source": [
    "nov8 = read_tweets('./data/tweets_1108.csv')\n",
    "nov8.head()"
   ]
  },
  {
   "cell_type": "markdown",
   "metadata": {},
   "source": [
    "## November 9"
   ]
  },
  {
   "cell_type": "code",
   "execution_count": 14,
   "metadata": {},
   "outputs": [
    {
     "name": "stdout",
     "output_type": "stream",
     "text": [
      "2020-11-09    17995\n",
      "Name: date, dtype: int64\n",
      "(17995, 3)\n"
     ]
    },
    {
     "data": {
      "text/html": [
       "<div>\n",
       "<style scoped>\n",
       "    .dataframe tbody tr th:only-of-type {\n",
       "        vertical-align: middle;\n",
       "    }\n",
       "\n",
       "    .dataframe tbody tr th {\n",
       "        vertical-align: top;\n",
       "    }\n",
       "\n",
       "    .dataframe thead th {\n",
       "        text-align: right;\n",
       "    }\n",
       "</style>\n",
       "<table border=\"1\" class=\"dataframe\">\n",
       "  <thead>\n",
       "    <tr style=\"text-align: right;\">\n",
       "      <th></th>\n",
       "      <th>created_at</th>\n",
       "      <th>text</th>\n",
       "      <th>date</th>\n",
       "    </tr>\n",
       "  </thead>\n",
       "  <tbody>\n",
       "    <tr>\n",
       "      <th>0</th>\n",
       "      <td>2020-11-09 23:59:51</td>\n",
       "      <td>@elonmusk Everyday!</td>\n",
       "      <td>2020-11-09</td>\n",
       "    </tr>\n",
       "    <tr>\n",
       "      <th>1</th>\n",
       "      <td>2020-11-09 23:58:21</td>\n",
       "      <td>@SpaceX @elonmusk @Space_Station @NASA @Commer...</td>\n",
       "      <td>2020-11-09</td>\n",
       "    </tr>\n",
       "    <tr>\n",
       "      <th>2</th>\n",
       "      <td>2020-11-09 18:40:31</td>\n",
       "      <td>@boringcompany @elonmusk @elonmusk please reac...</td>\n",
       "      <td>2020-11-09</td>\n",
       "    </tr>\n",
       "    <tr>\n",
       "      <th>3</th>\n",
       "      <td>2020-11-09 23:01:51</td>\n",
       "      <td>@ana_couper @boringcompany @elonmusk Well, tec...</td>\n",
       "      <td>2020-11-09</td>\n",
       "    </tr>\n",
       "    <tr>\n",
       "      <th>4</th>\n",
       "      <td>2020-11-09 18:41:32</td>\n",
       "      <td>@boringcompany @elonmusk And I will be, and wa...</td>\n",
       "      <td>2020-11-09</td>\n",
       "    </tr>\n",
       "  </tbody>\n",
       "</table>\n",
       "</div>"
      ],
      "text/plain": [
       "           created_at                                               text  \\\n",
       "0 2020-11-09 23:59:51                                @elonmusk Everyday!   \n",
       "1 2020-11-09 23:58:21  @SpaceX @elonmusk @Space_Station @NASA @Commer...   \n",
       "2 2020-11-09 18:40:31  @boringcompany @elonmusk @elonmusk please reac...   \n",
       "3 2020-11-09 23:01:51  @ana_couper @boringcompany @elonmusk Well, tec...   \n",
       "4 2020-11-09 18:41:32  @boringcompany @elonmusk And I will be, and wa...   \n",
       "\n",
       "         date  \n",
       "0  2020-11-09  \n",
       "1  2020-11-09  \n",
       "2  2020-11-09  \n",
       "3  2020-11-09  \n",
       "4  2020-11-09  "
      ]
     },
     "execution_count": 14,
     "metadata": {},
     "output_type": "execute_result"
    }
   ],
   "source": [
    "nov9 = read_tweets('./data/tweets_1109.csv')\n",
    "nov9.head()"
   ]
  },
  {
   "cell_type": "markdown",
   "metadata": {},
   "source": [
    "## November 10"
   ]
  },
  {
   "cell_type": "code",
   "execution_count": 15,
   "metadata": {},
   "outputs": [
    {
     "name": "stdout",
     "output_type": "stream",
     "text": [
      "2020-11-10    12044\n",
      "Name: date, dtype: int64\n",
      "(12044, 3)\n"
     ]
    },
    {
     "data": {
      "text/html": [
       "<div>\n",
       "<style scoped>\n",
       "    .dataframe tbody tr th:only-of-type {\n",
       "        vertical-align: middle;\n",
       "    }\n",
       "\n",
       "    .dataframe tbody tr th {\n",
       "        vertical-align: top;\n",
       "    }\n",
       "\n",
       "    .dataframe thead th {\n",
       "        text-align: right;\n",
       "    }\n",
       "</style>\n",
       "<table border=\"1\" class=\"dataframe\">\n",
       "  <thead>\n",
       "    <tr style=\"text-align: right;\">\n",
       "      <th></th>\n",
       "      <th>created_at</th>\n",
       "      <th>text</th>\n",
       "      <th>date</th>\n",
       "    </tr>\n",
       "  </thead>\n",
       "  <tbody>\n",
       "    <tr>\n",
       "      <th>0</th>\n",
       "      <td>2020-11-10 23:59:43</td>\n",
       "      <td>@CodingMark @TeslaPhx @elonmusk @Kristennetten...</td>\n",
       "      <td>2020-11-10</td>\n",
       "    </tr>\n",
       "    <tr>\n",
       "      <th>1</th>\n",
       "      <td>2020-11-10 16:18:53</td>\n",
       "      <td>@Nivetha_7_42 @elonmusk @RationalEtienne @Kris...</td>\n",
       "      <td>2020-11-10</td>\n",
       "    </tr>\n",
       "    <tr>\n",
       "      <th>2</th>\n",
       "      <td>2020-11-10 16:33:49</td>\n",
       "      <td>@Nivetha_7_42 @elonmusk @RationalEtienne @Kris...</td>\n",
       "      <td>2020-11-10</td>\n",
       "    </tr>\n",
       "    <tr>\n",
       "      <th>3</th>\n",
       "      <td>2020-11-10 22:17:27</td>\n",
       "      <td>@elonmusk @Kristennetten one of my biggest goa...</td>\n",
       "      <td>2020-11-10</td>\n",
       "    </tr>\n",
       "    <tr>\n",
       "      <th>4</th>\n",
       "      <td>2020-11-10 21:26:05</td>\n",
       "      <td>@elonmusk I am happy for you 🥰</td>\n",
       "      <td>2020-11-10</td>\n",
       "    </tr>\n",
       "  </tbody>\n",
       "</table>\n",
       "</div>"
      ],
      "text/plain": [
       "           created_at                                               text  \\\n",
       "0 2020-11-10 23:59:43  @CodingMark @TeslaPhx @elonmusk @Kristennetten...   \n",
       "1 2020-11-10 16:18:53  @Nivetha_7_42 @elonmusk @RationalEtienne @Kris...   \n",
       "2 2020-11-10 16:33:49  @Nivetha_7_42 @elonmusk @RationalEtienne @Kris...   \n",
       "3 2020-11-10 22:17:27  @elonmusk @Kristennetten one of my biggest goa...   \n",
       "4 2020-11-10 21:26:05                     @elonmusk I am happy for you 🥰   \n",
       "\n",
       "         date  \n",
       "0  2020-11-10  \n",
       "1  2020-11-10  \n",
       "2  2020-11-10  \n",
       "3  2020-11-10  \n",
       "4  2020-11-10  "
      ]
     },
     "execution_count": 15,
     "metadata": {},
     "output_type": "execute_result"
    }
   ],
   "source": [
    "nov10 = read_tweets('./data/tweets_1110.csv')\n",
    "nov10.head()"
   ]
  },
  {
   "cell_type": "markdown",
   "metadata": {},
   "source": [
    "## Concatenating"
   ]
  },
  {
   "cell_type": "code",
   "execution_count": 20,
   "metadata": {},
   "outputs": [],
   "source": [
    "dates = [oct28, oct29, oct30, oct31, nov1_2, nov3, nov4, nov5, nov6, nov7, nov8, nov9, nov10]"
   ]
  },
  {
   "cell_type": "code",
   "execution_count": 21,
   "metadata": {},
   "outputs": [
    {
     "data": {
      "text/html": [
       "<div>\n",
       "<style scoped>\n",
       "    .dataframe tbody tr th:only-of-type {\n",
       "        vertical-align: middle;\n",
       "    }\n",
       "\n",
       "    .dataframe tbody tr th {\n",
       "        vertical-align: top;\n",
       "    }\n",
       "\n",
       "    .dataframe thead th {\n",
       "        text-align: right;\n",
       "    }\n",
       "</style>\n",
       "<table border=\"1\" class=\"dataframe\">\n",
       "  <thead>\n",
       "    <tr style=\"text-align: right;\">\n",
       "      <th></th>\n",
       "      <th>created_at</th>\n",
       "      <th>text</th>\n",
       "      <th>date</th>\n",
       "    </tr>\n",
       "  </thead>\n",
       "  <tbody>\n",
       "    <tr>\n",
       "      <th>0</th>\n",
       "      <td>2020-10-28 06:25:49</td>\n",
       "      <td>@LeonardChoong @VGrinshpun @bizandsec @dividen...</td>\n",
       "      <td>2020-10-28</td>\n",
       "    </tr>\n",
       "    <tr>\n",
       "      <th>1</th>\n",
       "      <td>2020-10-27 17:09:19</td>\n",
       "      <td>@erwil_AI @boutchbb7 @ValueAnalyst1 @JiwanCahn...</td>\n",
       "      <td>2020-10-27</td>\n",
       "    </tr>\n",
       "    <tr>\n",
       "      <th>2</th>\n",
       "      <td>2020-10-27 19:49:16</td>\n",
       "      <td>@VGrinshpun @boutchbb7 @ValueAnalyst1 @JiwanCa...</td>\n",
       "      <td>2020-10-27</td>\n",
       "    </tr>\n",
       "    <tr>\n",
       "      <th>3</th>\n",
       "      <td>2020-10-27 06:54:30</td>\n",
       "      <td>@JiwanCahn @mariuswiik @WholeMarsBlog @dburkla...</td>\n",
       "      <td>2020-10-27</td>\n",
       "    </tr>\n",
       "    <tr>\n",
       "      <th>4</th>\n",
       "      <td>2020-10-27 06:54:07</td>\n",
       "      <td>@JiwanCahn @mariuswiik @WholeMarsBlog @dburkla...</td>\n",
       "      <td>2020-10-27</td>\n",
       "    </tr>\n",
       "  </tbody>\n",
       "</table>\n",
       "</div>"
      ],
      "text/plain": [
       "           created_at                                               text  \\\n",
       "0 2020-10-28 06:25:49  @LeonardChoong @VGrinshpun @bizandsec @dividen...   \n",
       "1 2020-10-27 17:09:19  @erwil_AI @boutchbb7 @ValueAnalyst1 @JiwanCahn...   \n",
       "2 2020-10-27 19:49:16  @VGrinshpun @boutchbb7 @ValueAnalyst1 @JiwanCa...   \n",
       "3 2020-10-27 06:54:30  @JiwanCahn @mariuswiik @WholeMarsBlog @dburkla...   \n",
       "4 2020-10-27 06:54:07  @JiwanCahn @mariuswiik @WholeMarsBlog @dburkla...   \n",
       "\n",
       "         date  \n",
       "0  2020-10-28  \n",
       "1  2020-10-27  \n",
       "2  2020-10-27  \n",
       "3  2020-10-27  \n",
       "4  2020-10-27  "
      ]
     },
     "execution_count": 21,
     "metadata": {},
     "output_type": "execute_result"
    }
   ],
   "source": [
    "all_tweets = pd.concat(dates, axis =0, ignore_index = True)\n",
    "all_tweets.head()"
   ]
  },
  {
   "cell_type": "code",
   "execution_count": 22,
   "metadata": {},
   "outputs": [
    {
     "data": {
      "text/plain": [
       "(181858, 3)"
      ]
     },
     "execution_count": 22,
     "metadata": {},
     "output_type": "execute_result"
    }
   ],
   "source": [
    "all_tweets.shape"
   ]
  },
  {
   "cell_type": "code",
   "execution_count": 23,
   "metadata": {},
   "outputs": [],
   "source": [
    "# all_tweets.to_csv('./data/all_tweets.csv', index = False)"
   ]
  },
  {
   "cell_type": "code",
   "execution_count": null,
   "metadata": {},
   "outputs": [],
   "source": []
  }
 ],
 "metadata": {
  "kernelspec": {
   "display_name": "Python 3",
   "language": "python",
   "name": "python3"
  },
  "language_info": {
   "codemirror_mode": {
    "name": "ipython",
    "version": 3
   },
   "file_extension": ".py",
   "mimetype": "text/x-python",
   "name": "python",
   "nbconvert_exporter": "python",
   "pygments_lexer": "ipython3",
   "version": "3.7.7"
  }
 },
 "nbformat": 4,
 "nbformat_minor": 4
}
